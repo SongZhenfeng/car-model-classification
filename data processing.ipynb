{
 "cells": [
  {
   "cell_type": "markdown",
   "metadata": {},
   "source": [
    "## Import Libraries"
   ]
  },
  {
   "cell_type": "code",
   "execution_count": 1,
   "metadata": {},
   "outputs": [],
   "source": [
    "import os\n",
    "import scipy.io as sio\n",
    "import shutil as sh\n",
    "import random\n",
    "import cv2\n",
    "from utils import load_data"
   ]
  },
  {
   "cell_type": "markdown",
   "metadata": {},
   "source": [
    "## Pre-Processing the Data"
   ]
  },
  {
   "cell_type": "markdown",
   "metadata": {},
   "source": [
    "##### Croped the image using bounding box to reduce background noise"
   ]
  },
  {
   "cell_type": "code",
   "execution_count": 2,
   "metadata": {},
   "outputs": [],
   "source": [
    "# crop image using bounding box\n",
    "# cropping will reduce noise from background\n",
    "def crop_image(data, image_scr, image_des):\n",
    "    os.makedirs(image_des, exist_ok=True)\n",
    "    for row in data:\n",
    "        im = cv2.imread(image_scr+row[0])\n",
    "        im_crop = im[row[3]:row[5], row[2]:row[4]]\n",
    "        cv2.imwrite(image_des+row[0], im_crop)"
   ]
  },
  {
   "cell_type": "markdown",
   "metadata": {},
   "source": [
    "## Train/Validation Split\n",
    "##### 80/20 rule was applied\n",
    "##### Each image was moved into the sub-class directory for keras data augmentation"
   ]
  },
  {
   "cell_type": "code",
   "execution_count": 3,
   "metadata": {},
   "outputs": [],
   "source": [
    "# create data sub-folder for keras training\n",
    "def create_subdirectory(data, classes,image_path):\n",
    "    num_train_samples = 0 # count number of trainning samples \n",
    "    \n",
    "    split_ratio = 0.8     # train test split using 80/20 rule\n",
    "    for class_name in classes:   # 80/20 split for each class\n",
    "            temp = [(row[0],row[1])  for row in data if classes[row[1]-1] == class_name]\n",
    "            tag = temp[0][1]\n",
    "            num_samples = len(temp)\n",
    "            num_train = int(round(num_samples * split_ratio))\n",
    "            train_indexes = random.sample(range(num_samples), num_train)\n",
    "        \n",
    "            num_train_samples += num_train\n",
    "        \n",
    "            for i in range(num_samples):\n",
    "                if i in train_indexes:\n",
    "                    os.makedirs(\"data/training/%04d\" %tag + \"/\" , exist_ok=True)\n",
    "                    sh.move(image_path + temp[i][0][:], \"data/training/%04d\" %tag + \"/\" + temp[i][0][:])\n",
    "                else:\n",
    "                    os.makedirs(\"data/validation/%04d\" %tag + \"/\", exist_ok=True)\n",
    "                    sh.move(image_path + temp[i][0][:], \"data/validation/%04d\" %tag + \"/\" + temp[i][0][:])\n",
    "    return num_train_samples"
   ]
  },
  {
   "cell_type": "markdown",
   "metadata": {},
   "source": [
    "## Crop Training/validation data"
   ]
  },
  {
   "cell_type": "code",
   "execution_count": 9,
   "metadata": {},
   "outputs": [
    {
     "name": "stdout",
     "output_type": "stream",
     "text": [
      "Processing training data...\n"
     ]
    }
   ],
   "source": [
    "print(\"Processing training data...\")\n",
    "training_data_src = \"cars_train/\"\n",
    "training_data_des = \"data/train_crop/\"\n",
    "training_data = load_data(\"devkit/cars_train_annos.mat\", \"data\", \"train\")\n",
    "classes = load_data(\"devkit/cars_meta.mat\", \"class\", \"train\")\n",
    "crop_image(training_data, training_data_src, training_data_des)"
   ]
  },
  {
   "cell_type": "code",
   "execution_count": 10,
   "metadata": {},
   "outputs": [
    {
     "name": "stdout",
     "output_type": "stream",
     "text": [
      "Number of training samples are:\n"
     ]
    },
    {
     "data": {
      "text/plain": [
       "6509"
      ]
     },
     "execution_count": 10,
     "metadata": {},
     "output_type": "execute_result"
    }
   ],
   "source": [
    "print(\"Number of training samples are:\")\n",
    "create_subdirectory(training_data, classes, training_data_des)"
   ]
  },
  {
   "cell_type": "markdown",
   "metadata": {},
   "source": [
    "## Crop Training/validation data"
   ]
  },
  {
   "cell_type": "code",
   "execution_count": 11,
   "metadata": {},
   "outputs": [
    {
     "name": "stdout",
     "output_type": "stream",
     "text": [
      "Processing testing data..\n",
      "Data processing completed.\n"
     ]
    }
   ],
   "source": [
    "print(\"Processing testing data..\")\n",
    "testing_data_src = \"cars_test/\"\n",
    "testing_data_des = \"data/testing/\"\n",
    "testing_data = load_data(\"devkit/cars_test_annos.mat\", \"data\", \"test\")\n",
    "crop_image(testing_data, testing_data_src, testing_data_des)\n",
    "print(\"Data processing completed.\")"
   ]
  },
  {
   "cell_type": "code",
   "execution_count": 12,
   "metadata": {},
   "outputs": [],
   "source": [
    "sh.rmtree(\"data/train_crop/\")"
   ]
  }
 ],
 "metadata": {
  "kernelspec": {
   "display_name": "Python 3",
   "language": "python",
   "name": "python3"
  },
  "language_info": {
   "codemirror_mode": {
    "name": "ipython",
    "version": 3
   },
   "file_extension": ".py",
   "mimetype": "text/x-python",
   "name": "python",
   "nbconvert_exporter": "python",
   "pygments_lexer": "ipython3",
   "version": "3.7.3"
  }
 },
 "nbformat": 4,
 "nbformat_minor": 2
}
